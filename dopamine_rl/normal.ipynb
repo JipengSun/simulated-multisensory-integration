{
 "cells": [
  {
   "cell_type": "code",
   "execution_count": 1,
   "metadata": {
    "collapsed": true
   },
   "outputs": [],
   "source": [
    "from brian2 import *\n",
    "%matplotlib inline\n"
   ]
  },
  {
   "cell_type": "code",
   "execution_count": 2,
   "outputs": [],
   "source": [
    "def input_generate():\n",
    "    pass"
   ],
   "metadata": {
    "collapsed": false,
    "pycharm": {
     "name": "#%%\n"
    }
   }
  },
  {
   "cell_type": "code",
   "execution_count": 3,
   "outputs": [],
   "source": [
    "# Membrane potential is reset to vr\n",
    "vr = -60*mV\n",
    "vt = 30*mV\n",
    "d = 2*volt/second\n",
    "\n",
    "# Izhikevich Neuron Model\n",
    "a = 0.02/ms; b = 0.2/ms\n",
    "izhi_eqs = '''dvm/dt = (0.04/ms/mV)*vm**2+(5/ms)*vm+140*mV/ms-w+I : volt\n",
    "         dw/dt = a*(b*vm-w) : volt/second\n",
    "         I :volt/second'''\n",
    "izhi_reset_eqs = ''' vm = vr\n",
    "w += d\n",
    "'''"
   ],
   "metadata": {
    "collapsed": false,
    "pycharm": {
     "name": "#%%\n"
    }
   }
  },
  {
   "cell_type": "code",
   "execution_count": 4,
   "outputs": [
    {
     "name": "stderr",
     "output_type": "stream",
     "text": [
      "clang: warning: libstdc++ is deprecated; move to libc++ with a minimum deployment target of OS X 10.9 [-Wdeprecated]\n",
      "ld: library not found for -lstdc++\n",
      "clang: error: linker command failed with exit code 1 (use -v to see invocation)\n",
      "WARNING    Cannot use Cython, a test compilation failed: command 'g++' failed with exit status 1 (LinkError) [brian2.codegen.runtime.cython_rt.cython_rt.failed_compile_test]\n",
      "INFO       Cannot use compiled code, falling back to the numpy code generation target. Note that this will likely be slower than using compiled code. Set the code generation to numpy manually to avoid this message:\n",
      "prefs.codegen.target = \"numpy\" [brian2.devices.device.codegen_fallback]\n"
     ]
    },
    {
     "name": "stdout",
     "output_type": "stream",
     "text": [
      "[[-60.      -61.6     -63.21936 ... -70.      -70.      -70.     ]\n",
      " [-60.      -61.6     -63.21936 ... -70.      -70.      -70.     ]] mV\n"
     ]
    },
    {
     "data": {
      "text/plain": "[<matplotlib.lines.Line2D at 0x7f84bbc743d0>]"
     },
     "execution_count": 4,
     "metadata": {},
     "output_type": "execute_result"
    },
    {
     "data": {
      "image/png": "[encoded data removed]",
      "text/plain": "<Figure size 432x288 with 1 Axes>"
     },
     "metadata": {
      "needs_background": "light"
     },
     "output_type": "display_data"
    }
   ],
   "source": [
    "start_scope()\n",
    "# Visual Input\n",
    "visual_input_indices = array([0,1,0,1,1,0,\n",
    "                       0,1,0,1,1,0])\n",
    "visual_input_times = array([ 500,  550, 1000, 1010, 1500, 1510,\n",
    "                     3500, 3550, 4000, 4010, 4500, 4510])*ms\n",
    "visual_input = SpikeGeneratorGroup(2,visual_input_indices,visual_input_times)\n",
    "\n",
    "# Visual neurons\n",
    "visual_neurons = NeuronGroup(2,izhi_eqs,threshold='vm>vt',reset=izhi_reset_eqs,method='euler')\n",
    "visual_neurons.vm = vr\n",
    "\n",
    "visual_spike_monitor = SpikeMonitor(visual_neurons)\n",
    "visual_state_monitor = StateMonitor(visual_neurons, 'vm', record=[0,1])\n",
    "\n",
    "# Synapse between Input and Visual Neurons\n",
    "visual_input_synapse = Synapses(visual_input,visual_neurons,model='''s:volt''',on_pre='vm += s')\n",
    "    # Connect neuron 0->0, 1->1\n",
    "visual_input_synapse.connect(i = [0,1],j = [0,1])\n",
    "visual_input_synapse.s = 100. *mV\n",
    "\n",
    "visual_input_synapse_monitor = StateMonitor(visual_input_synapse,['s'],record = [0])\n",
    "# Run the visual input\n",
    "run(6*second)\n",
    "print(visual_state_monitor.vm)\n",
    "plot(visual_state_monitor.t,visual_state_monitor.vm[0])\n",
    "plot(visual_state_monitor.t,visual_state_monitor.vm[1])"
   ],
   "metadata": {
    "collapsed": false,
    "pycharm": {
     "name": "#%%\n"
    }
   }
  },
  {
   "cell_type": "code",
   "execution_count": 6,
   "outputs": [
    {
     "name": "stdout",
     "output_type": "stream",
     "text": [
      "[[-60.      -61.6     -63.21936 ... -70.      -70.      -70.     ]\n",
      " [-60.      -61.6     -63.21936 ... -70.      -70.      -70.     ]] mV\n",
      "[[100. 100. 100. ... 100. 100. 100.]] mV\n"
     ]
    },
    {
     "data": {
      "image/png": "[encoded data removed]",
      "text/plain": "<Figure size 432x288 with 1 Axes>"
     },
     "metadata": {
      "needs_background": "light"
     },
     "output_type": "display_data"
    }
   ],
   "source": [
    "start_scope()\n",
    "# Proprioceptive input\n",
    "proprio_input_indices = array([0,1,0,1,1,0,\n",
    "                       0,1,0,1,1,0])\n",
    "proprio_input_times = array([ 500,  550, 1000, 1010, 1500, 1510,\n",
    "                     3500, 3550, 4000, 4010, 4500, 4510])*ms\n",
    "proprio_input = SpikeGeneratorGroup(2,proprio_input_indices,proprio_input_times)\n",
    "\n",
    "# Proprioceptive neurons\n",
    "proprio_neurons = NeuronGroup(2,izhi_eqs,threshold='vm>vt',reset=izhi_reset_eqs,method='euler')\n",
    "proprio_neurons.vm = vr\n",
    "\n",
    "proprio_spike_monitor = SpikeMonitor(proprio_neurons)\n",
    "proprio_state_monitor = StateMonitor(proprio_neurons, 'vm', record=[0,1])\n",
    "\n",
    "# Synapse between Input and Proprioceptive Neurons\n",
    "proprio_input_synapse = Synapses(proprio_input,proprio_neurons,model='''s:volt''',on_pre='vm += s')\n",
    "    # Connect neuron 0->0, 1->1\n",
    "proprio_input_synapse.connect(i = [0,1],j = [0,1])\n",
    "proprio_input_synapse.s = 100. *mV\n",
    "\n",
    "proprio_input_synapse_monitor = StateMonitor(proprio_input_synapse,['s'],record = [0])\n",
    "# Run the proprioceptive input\n",
    "run(6*second)\n",
    "print(proprio_state_monitor.vm)\n",
    "plot(proprio_state_monitor.t,proprio_state_monitor.vm[0])\n",
    "plot(proprio_state_monitor.t,proprio_state_monitor.vm[1])\n",
    "\n",
    "print(proprio_input_synapse_monitor.s)\n",
    "#plot(proprio_input_synapse_monitor.t,proprio_input_synapse_monitor.s[0])"
   ],
   "metadata": {
    "collapsed": false,
    "pycharm": {
     "name": "#%%\n"
    }
   }
  },
  {
   "cell_type": "code",
   "execution_count": 5,
   "outputs": [],
   "source": [],
   "metadata": {
    "collapsed": false,
    "pycharm": {
     "name": "#%%\n"
    }
   }
  }
 ],
 "metadata": {
  "kernelspec": {
   "display_name": "Python 2",
   "language": "python",
   "name": "python2"
  },
  "language_info": {
   "codemirror_mode": {
    "name": "ipython",
    "version": 2
   },
   "file_extension": ".py",
   "mimetype": "text/x-python",
   "name": "python",
   "nbconvert_exporter": "python",
   "pygments_lexer": "ipython2",
   "version": "2.7.6"
  }
 },
 "nbformat": 4,
 "nbformat_minor": 0
}