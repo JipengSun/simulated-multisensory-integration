{
 "cells": [
  {
   "cell_type": "code",
   "execution_count": 8,
   "metadata": {
    "collapsed": true
   },
   "outputs": [],
   "source": [
    "from brian2 import *\n",
    "%matplotlib inline\n"
   ]
  },
  {
   "cell_type": "code",
   "execution_count": 9,
   "outputs": [],
   "source": [
    "def input_generate():\n",
    "    pass"
   ],
   "metadata": {
    "collapsed": false,
    "pycharm": {
     "name": "#%%\n"
    }
   }
  },
  {
   "cell_type": "code",
   "execution_count": 9,
   "outputs": [],
   "source": [],
   "metadata": {
    "collapsed": false,
    "pycharm": {
     "name": "#%%\n"
    }
   }
  },
  {
   "cell_type": "code",
   "execution_count": 10,
   "outputs": [],
   "source": [
    "# Integrate and Fire Model\n",
    "taum = 10*ms\n",
    "Ee = 0*mV\n",
    "vt = -54*mV\n",
    "vr = -60*mV\n",
    "El = -74*mV\n",
    "taue = 5*ms\n",
    "F = 15*Hz\n",
    "\n",
    "IF_eqs = '''\n",
    "dv/dt = (ge * (Ee-v) + El - v) / taum : volt\n",
    "dge/dt = -ge / taue : 1\n",
    "'''"
   ],
   "metadata": {
    "collapsed": false,
    "pycharm": {
     "name": "#%%\n"
    }
   }
  },
  {
   "cell_type": "code",
   "execution_count": 11,
   "outputs": [
    {
     "name": "stdout",
     "output_type": "stream",
     "text": [
      "[] V\n"
     ]
    },
    {
     "data": {
      "text/plain": "[<matplotlib.lines.Line2D at 0x7fccbf874890>]"
     },
     "execution_count": 11,
     "metadata": {},
     "output_type": "execute_result"
    },
    {
     "data": {
      "image/png": "[encoded data removed]",
      "text/plain": "<Figure size 432x288 with 1 Axes>"
     },
     "metadata": {
      "needs_background": "light"
     },
     "output_type": "display_data"
    }
   ],
   "source": [
    "start_scope()\n",
    "# Visual Input\n",
    "visual_input_indices = array([0,1,0,1,1,0,\n",
    "                       0,1,0,1,1,0])\n",
    "visual_input_times = array([ 500,  550, 1000, 1010, 1500, 1510,\n",
    "                     3500, 3550, 4000, 4010, 4500, 4510])*ms\n",
    "visual_input = SpikeGeneratorGroup(2,visual_input_indices,visual_input_times)\n",
    "\n",
    "# Visual neurons\n",
    "visual_neurons = NeuronGroup(2,IF_eqs,threshold='v>vt',reset='v=vr',method='euler')\n",
    "visual_neurons.v = vr\n",
    "\n",
    "visual_spike_monitor = SpikeMonitor(visual_neurons)\n",
    "visual_state_monitor = StateMonitor(visual_neurons, 'v', record=[0,1])\n",
    "\n",
    "# Synapse between Input and Visual Neurons\n",
    "visual_input_synapse = Synapses(visual_input,visual_neurons,model='''s:volt''',on_pre='v += s')\n",
    "    # Connect neuron 0->0, 1->1\n",
    "visual_input_synapse.connect(i = [0,1],j = [0,1])\n",
    "visual_input_synapse.s = 100. *mV\n",
    "\n",
    "visual_input_synapse_monitor = StateMonitor(visual_input_synapse,['s'],record = [0])\n",
    "# Run the visual input\n",
    "#run(6*second)\n",
    "print(visual_state_monitor.v)\n",
    "plot(visual_state_monitor.t,visual_state_monitor.v[0])\n",
    "plot(visual_state_monitor.t,visual_state_monitor.v[1])"
   ],
   "metadata": {
    "collapsed": false,
    "pycharm": {
     "name": "#%%\n"
    }
   }
  },
  {
   "cell_type": "code",
   "execution_count": 12,
   "outputs": [
    {
     "name": "stdout",
     "output_type": "stream",
     "text": [
      "[] V\n",
      "[] V\n"
     ]
    },
    {
     "data": {
      "image/png": "[encoded data removed]",
      "text/plain": "<Figure size 432x288 with 1 Axes>"
     },
     "metadata": {
      "needs_background": "light"
     },
     "output_type": "display_data"
    }
   ],
   "source": [
    "start_scope()\n",
    "# Proprioceptive input\n",
    "proprio_input_indices = array([0,1,0,1,1,0,\n",
    "                       0,1,0,1,1,0])\n",
    "proprio_input_times = array([ 500,  550, 1000, 1010, 1500, 1510,\n",
    "                     3500, 3550, 4000, 4010, 4500, 4510])*ms\n",
    "proprio_input = SpikeGeneratorGroup(2,proprio_input_indices,proprio_input_times)\n",
    "\n",
    "# Proprioceptive neurons\n",
    "proprio_neurons = NeuronGroup(2,IF_eqs,threshold='v>vt',reset='v=vr',method='euler')\n",
    "proprio_neurons.v = vr\n",
    "\n",
    "proprio_spike_monitor = SpikeMonitor(proprio_neurons)\n",
    "proprio_state_monitor = StateMonitor(proprio_neurons, 'v', record=[0,1])\n",
    "\n",
    "# Synapse between Input and Proprioceptive Neurons\n",
    "proprio_input_synapse = Synapses(proprio_input,proprio_neurons,model='''s:volt''',on_pre='v += s')\n",
    "    # Connect neuron 0->0, 1->1\n",
    "proprio_input_synapse.connect(i = [0,1],j = [0,1])\n",
    "proprio_input_synapse.s = 100. *mV\n",
    "\n",
    "proprio_input_synapse_monitor = StateMonitor(proprio_input_synapse,['s'],record = [0])\n",
    "# Run the proprioceptive input\n",
    "#run(6*second)\n",
    "print(proprio_state_monitor.v)\n",
    "plot(proprio_state_monitor.t,proprio_state_monitor.v[0])\n",
    "plot(proprio_state_monitor.t,proprio_state_monitor.v[1])\n",
    "\n",
    "print(proprio_input_synapse_monitor.s)\n",
    "#plot(proprio_input_synapse_monitor.t,proprio_input_synapse_monitor.s[0])"
   ],
   "metadata": {
    "collapsed": false,
    "pycharm": {
     "name": "#%%\n"
    }
   }
  },
  {
   "cell_type": "code",
   "execution_count": 13,
   "outputs": [],
   "source": [
    "# STDP Synapse\n",
    "taupre = taupost = 20*ms\n",
    "gmax = 0.01\n",
    "dApre = 0.01\n",
    "dApost = -dApre * taupre / taupost * 1.05\n",
    "dApost *= gmax\n",
    "dApre *= gmax\n",
    "'''\n",
    "wmax = 0.01\n",
    "Apre = 0.01\n",
    "Apost = -Apre*taupre/taupost*1.05\n",
    "'''\n",
    "stdp_eqs = ''' w : 1\n",
    "             dApre/dt = -Apre/taupre : 1 (event-driven)\n",
    "             dApost/dt = -Apost/taupost : 1 (event-driven)\n",
    "             '''\n",
    "stdp_pre_eqs = '''ge+=w\n",
    "             Apre += dApre\n",
    "             w = clip(w+Apost, 0, gmax)\n",
    "             '''\n",
    "stdp_post_eqs='''Apost += dApost\n",
    "             w = clip(w+Apre, 0, gmax)\n",
    "             '''"
   ],
   "metadata": {
    "collapsed": false,
    "pycharm": {
     "name": "#%%\n"
    }
   }
  },
  {
   "cell_type": "code",
   "execution_count": 14,
   "outputs": [
    {
     "data": {
      "text/plain": "[<matplotlib.lines.Line2D at 0x7fccbfdb9410>]"
     },
     "execution_count": 14,
     "metadata": {},
     "output_type": "execute_result"
    },
    {
     "data": {
      "image/png": "[encoded data removed]",
      "text/plain": "<Figure size 432x288 with 1 Axes>"
     },
     "metadata": {
      "needs_background": "light"
     },
     "output_type": "display_data"
    }
   ],
   "source": [
    "# VP integration neurons\n",
    "vp_integrate_neurons = NeuronGroup(2,IF_eqs,threshold='v>vt',reset='v=vr',method='euler')\n",
    "vp_integrate_neurons.v = vr\n",
    "\n",
    "vp_integrate_spike_monitor = SpikeMonitor(vp_integrate_neurons)\n",
    "vp_integrate_state_monitor = StateMonitor(vp_integrate_neurons, 'v', record=[0,1])\n",
    "\n",
    "# STDP synapse\n",
    "v_in_stdp_synapse = Synapses(visual_neurons,vp_integrate_neurons,\n",
    "                             stdp_eqs,\n",
    "                             on_pre=stdp_pre_eqs,\n",
    "                             on_post=stdp_post_eqs,\n",
    "                             method=euler)\n",
    "v_in_stdp_synapse.connect(i=[0,0,1,1],j=[0,1,0,1])\n",
    "v_in_stdp_synapse.w = 'rand()*gmax'\n",
    "net = Network(visual_input,visual_neurons,visual_input_synapse,vp_integrate_neurons,v_in_stdp_synapse,vp_integrate_state_monitor)\n",
    "net.run(6*second)\n",
    "\n",
    "#plot(visual_state_monitor.t,visual_state_monitor.v[0])\n",
    "#plot(visual_state_monitor.t,visual_state_monitor.v[1])\n",
    "#print(visual_state_monitor.v[0])\n",
    "plot(vp_integrate_state_monitor.t,vp_integrate_state_monitor.v[0])\n"
   ],
   "metadata": {
    "collapsed": false,
    "pycharm": {
     "name": "#%%\n"
    }
   }
  }
 ],
 "metadata": {
  "kernelspec": {
   "display_name": "Python 2",
   "language": "python",
   "name": "python2"
  },
  "language_info": {
   "codemirror_mode": {
    "name": "ipython",
    "version": 2
   },
   "file_extension": ".py",
   "mimetype": "text/x-python",
   "name": "python",
   "nbconvert_exporter": "python",
   "pygments_lexer": "ipython2",
   "version": "2.7.6"
  }
 },
 "nbformat": 4,
 "nbformat_minor": 0
}