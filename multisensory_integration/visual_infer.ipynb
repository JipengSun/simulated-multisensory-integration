{
 "cells": [
  {
   "cell_type": "code",
   "execution_count": null,
   "metadata": {
    "collapsed": true
   },
   "outputs": [],
   "source": []
  },
  {
   "cell_type": "markdown",
   "source": [
    "## Goal of the module\n",
    "Training the visual inference model. Use the visual data to predict the position of the hand.\n",
    "\n",
    "### Input\n",
    "image\n",
    "\n",
    "### Output\n",
    "spatial_coding of the hand position\n",
    "\n",
    "### Model structure\n",
    "input-->Conv-->MaxPooling-->Conv-->MaxPooling-->FC-->FC-->Softmax\n",
    "### To do\n",
    "1. Build the visual dataset</br>\n",
    "a. Convert the videos to the images </br>\n",
    "b. Learn to build the Pytorch image dataset.\n",
    "2. Train the visual inference network to make it predict the hand position.\n",
    "3. Build a multisensory dataset</br>\n",
    "a. Align the visual and prioproceptive data.</br>\n",
    "b. Merge them in a single dataset.\n"
   ],
   "metadata": {
    "collapsed": false
   }
  }
 ],
 "metadata": {
  "kernelspec": {
   "name": "pycharm-20495502",
   "language": "python",
   "display_name": "PyCharm (dopamine_rl)"
  },
  "language_info": {
   "codemirror_mode": {
    "name": "ipython",
    "version": 2
   },
   "file_extension": ".py",
   "mimetype": "text/x-python",
   "name": "python",
   "nbconvert_exporter": "python",
   "pygments_lexer": "ipython2",
   "version": "2.7.6"
  }
 },
 "nbformat": 4,
 "nbformat_minor": 0
}