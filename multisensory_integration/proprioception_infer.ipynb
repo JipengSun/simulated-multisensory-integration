{
 "cells": [
  {
   "cell_type": "code",
   "execution_count": 1,
   "metadata": {
    "pycharm": {
     "is_executing": false
    }
   },
   "outputs": [
    {
     "name": "stdout",
     "output_type": "stream",
     "text": [
      "    Unnamed: 0  elbow_angle  elbow_x  elbow_y  hand_x  hand_y  shoulder_angle\n",
      "0            0         50.4     1.21     2.75   -0.72    2.20            66.3\n",
      "1            1         53.4     1.21     2.75   -0.74    2.30            66.3\n",
      "2            2         56.4     1.21     2.75   -0.76    2.40            66.3\n",
      "3            3         56.4     1.35     2.68   -0.64    2.44            63.3\n",
      "4            4         56.4     1.21     2.75   -0.76    2.40            66.3\n",
      "5            5         56.4     1.06     2.81   -0.89    2.36            69.3\n",
      "6            6         59.4     1.06     2.81   -0.91    2.46            69.3\n",
      "7            7         59.4     1.21     2.75   -0.78    2.51            66.3\n",
      "8            8         59.4     1.35     2.68   -0.65    2.54            63.3\n",
      "9            9         59.4     1.21     2.75   -0.78    2.51            66.3\n",
      "10          10         62.4     1.21     2.75   -0.79    2.61            66.3\n",
      "11          11         59.4     1.21     2.75   -0.78    2.51            66.3\n",
      "12          12         56.4     1.21     2.75   -0.76    2.40            66.3\n",
      "13          13         56.4     1.35     2.68   -0.64    2.44            63.3\n",
      "14          14         56.4     1.21     2.75   -0.76    2.40            66.3\n",
      "15          15         56.4     1.35     2.68   -0.64    2.44            63.3\n",
      "16          16         59.4     1.35     2.68   -0.65    2.54            63.3\n",
      "17          17         62.4     1.35     2.68   -0.65    2.65            63.3\n",
      "18          18         65.4     1.35     2.68   -0.65    2.75            63.3\n",
      "19          19         62.4     1.35     2.68   -0.65    2.65            63.3\n",
      "20          20         65.4     1.35     2.68   -0.65    2.75            63.3\n",
      "21          21         65.4     1.49     2.61   -0.51    2.78            60.3\n",
      "22          22         65.4     1.35     2.68   -0.65    2.75            63.3\n",
      "23          23         68.4     1.35     2.68   -0.64    2.86            63.3\n",
      "24          24         68.4     1.49     2.61   -0.49    2.89            60.3\n",
      "25          25         71.4     1.49     2.61   -0.48    2.99            60.3\n",
      "26          26         68.4     1.49     2.61   -0.49    2.89            60.3\n",
      "27          27         65.4     1.49     2.61   -0.51    2.78            60.3\n",
      "28          28         65.4     1.62     2.52   -0.36    2.81            57.3\n",
      "29          29         68.4     1.62     2.52   -0.34    2.91            57.3\n",
      "30          30         68.4     1.75     2.44   -0.19    2.92            54.3\n",
      "31          31         68.4     1.88     2.34   -0.04    2.93            51.3\n",
      "32          32         71.4     1.88     2.34   -0.00    3.03            51.3\n",
      "33          33         68.4     1.88     2.34   -0.04    2.93            51.3\n",
      "34          34         65.4     1.88     2.34   -0.06    2.83            51.3\n",
      "35          35         65.4     1.75     2.44   -0.21    2.82            54.3\n",
      "36          36         68.4     1.75     2.44   -0.19    2.92            54.3\n",
      "37          37         71.4     1.75     2.44   -0.16    3.02            54.3\n",
      "38          38         74.4     1.75     2.44   -0.13    3.12            54.3\n",
      "39          39         74.4     1.88     2.34    0.04    3.13            51.3\n",
      "40          40         74.4     1.75     2.44   -0.13    3.12            54.3\n",
      "41          41         77.4     1.75     2.44   -0.09    3.22            54.3\n",
      "42          42         77.4     1.62     2.52   -0.26    3.21            57.3\n",
      "43          43         80.4     1.62     2.52   -0.22    3.31            57.3\n",
      "44          44         77.4     1.62     2.52   -0.26    3.21            57.3\n",
      "45          45         80.4     1.62     2.52   -0.22    3.31            57.3\n",
      "46          46         83.4     1.62     2.52   -0.18    3.40            57.3\n",
      "47          47         83.4     1.49     2.61   -0.35    3.39            60.3\n",
      "48          48         83.4     1.35     2.68   -0.53    3.37            63.3\n",
      "49          49         83.4     1.21     2.75   -0.71    3.34            66.3\n",
      "50          50         83.4     1.06     2.81   -0.88    3.29            69.3\n",
      "51          51         83.4     0.91     2.86   -1.05    3.24            72.3\n",
      "52          52         83.4     0.76     2.90   -1.22    3.18            75.3\n",
      "53          53         83.4     0.61     2.94   -1.38    3.12            78.3\n"
     ]
    }
   ],
   "source": [
    "import pandas as pd\n",
    "import numpy as np\n",
    "import torch\n",
    "src_path = '/Users/Jipeng/PycharmProjects/simulated_multisensory_integration/'\n",
    "file_name = 'simulated_data.csv'\n",
    "df = pd.read_csv(src_path+file_name)\n",
    "print (df)"
   ]
  },
  {
   "cell_type": "markdown",
   "metadata": {},
   "source": [
    "## Goal of the module\n",
    "Training the proprioceptive inference model. Use the two joints angle data to predict the position of the hand.\n",
    "\n",
    "### Input\n",
    "shoulder_angle, elbow_angle\n",
    "\n",
    "What precision should the input be divided into? It depends on the performance. I will explore later.\n",
    "\n",
    "### Output\n",
    "spatial_coding\n",
    "\n",
    "Depends on  the precision of the final coding, the area can be divided into N parts. So there are N position labels. From [1,0,0,...0] to [0,0,0,...1]\n",
    "\n",
    "### Model structure\n",
    "input-->FC-->FC-->Softmax\n",
    "### To do\n",
    "1. Let the model run, without considering the performance.<br>\n",
    "a. Convert the hand position into spatial coding.<br>\n",
    "b. Split the dataset.<br>\n",
    "c. Use PyTorch to design the model.\n",
    "\n",
    "2. Augment the data, let it cover more positions.\n",
    "3. Divide the data into appropriate precision."
   ]
  },
  {
   "cell_type": "code",
   "execution_count": 2,
   "metadata": {
    "pycharm": {
     "is_executing": false,
     "name": "#%%\n"
    }
   },
   "outputs": [
    {
     "name": "stdout",
     "output_type": "stream",
     "text": [
      "0    -0.72\n",
      "1    -0.74\n",
      "2    -0.76\n",
      "3    -0.64\n",
      "4    -0.76\n",
      "5    -0.89\n",
      "6    -0.91\n",
      "7    -0.78\n",
      "8    -0.65\n",
      "9    -0.78\n",
      "10   -0.79\n",
      "11   -0.78\n",
      "12   -0.76\n",
      "13   -0.64\n",
      "14   -0.76\n",
      "15   -0.64\n",
      "16   -0.65\n",
      "17   -0.65\n",
      "18   -0.65\n",
      "19   -0.65\n",
      "20   -0.65\n",
      "21   -0.51\n",
      "22   -0.65\n",
      "23   -0.64\n",
      "24   -0.49\n",
      "25   -0.48\n",
      "26   -0.49\n",
      "27   -0.51\n",
      "28   -0.36\n",
      "29   -0.34\n",
      "30   -0.19\n",
      "31   -0.04\n",
      "32   -0.00\n",
      "33   -0.04\n",
      "34   -0.06\n",
      "35   -0.21\n",
      "36   -0.19\n",
      "37   -0.16\n",
      "38   -0.13\n",
      "39    0.04\n",
      "40   -0.13\n",
      "41   -0.09\n",
      "42   -0.26\n",
      "43   -0.22\n",
      "44   -0.26\n",
      "45   -0.22\n",
      "46   -0.18\n",
      "47   -0.35\n",
      "48   -0.53\n",
      "49   -0.71\n",
      "50   -0.88\n",
      "51   -1.05\n",
      "52   -1.22\n",
      "53   -1.38\n",
      "Name: hand_x, dtype: float64\n",
      "0    -1.0\n",
      "1    -1.0\n",
      "2    -1.0\n",
      "3    -1.0\n",
      "4    -1.0\n",
      "5    -1.0\n",
      "6    -1.0\n",
      "7    -1.0\n",
      "8    -1.0\n",
      "9    -1.0\n",
      "10   -1.0\n",
      "11   -1.0\n",
      "12   -1.0\n",
      "13   -1.0\n",
      "14   -1.0\n",
      "15   -1.0\n",
      "16   -1.0\n",
      "17   -1.0\n",
      "18   -1.0\n",
      "19   -1.0\n",
      "20   -1.0\n",
      "21   -1.0\n",
      "22   -1.0\n",
      "23   -1.0\n",
      "24   -0.0\n",
      "25   -0.0\n",
      "26   -0.0\n",
      "27   -1.0\n",
      "28   -0.0\n",
      "29   -0.0\n",
      "30   -0.0\n",
      "31   -0.0\n",
      "32   -0.0\n",
      "33   -0.0\n",
      "34   -0.0\n",
      "35   -0.0\n",
      "36   -0.0\n",
      "37   -0.0\n",
      "38   -0.0\n",
      "39    0.0\n",
      "40   -0.0\n",
      "41   -0.0\n",
      "42   -0.0\n",
      "43   -0.0\n",
      "44   -0.0\n",
      "45   -0.0\n",
      "46   -0.0\n",
      "47   -0.0\n",
      "48   -1.0\n",
      "49   -1.0\n",
      "50   -1.0\n",
      "51   -1.0\n",
      "52   -1.0\n",
      "53   -1.0\n",
      "Name: hand_x, dtype: float64\n",
      "    elbow_angle  shoulder_angle\n",
      "0          50.4            66.3\n",
      "1          53.4            66.3\n",
      "2          56.4            66.3\n",
      "3          56.4            63.3\n",
      "4          56.4            66.3\n",
      "5          56.4            69.3\n",
      "6          59.4            69.3\n",
      "7          59.4            66.3\n",
      "8          59.4            63.3\n",
      "9          59.4            66.3\n",
      "10         62.4            66.3\n",
      "11         59.4            66.3\n",
      "12         56.4            66.3\n",
      "13         56.4            63.3\n",
      "14         56.4            66.3\n",
      "15         56.4            63.3\n",
      "16         59.4            63.3\n",
      "17         62.4            63.3\n",
      "18         65.4            63.3\n",
      "19         62.4            63.3\n",
      "20         65.4            63.3\n",
      "21         65.4            60.3\n",
      "22         65.4            63.3\n",
      "23         68.4            63.3\n",
      "24         68.4            60.3\n",
      "25         71.4            60.3\n",
      "26         68.4            60.3\n",
      "27         65.4            60.3\n",
      "28         65.4            57.3\n",
      "29         68.4            57.3\n",
      "30         68.4            54.3\n",
      "31         68.4            51.3\n",
      "32         71.4            51.3\n",
      "33         68.4            51.3\n",
      "34         65.4            51.3\n",
      "35         65.4            54.3\n",
      "36         68.4            54.3\n",
      "37         71.4            54.3\n",
      "38         74.4            54.3\n",
      "39         74.4            51.3\n",
      "40         74.4            54.3\n",
      "41         77.4            54.3\n",
      "42         77.4            57.3\n",
      "43         80.4            57.3\n",
      "44         77.4            57.3\n",
      "45         80.4            57.3\n",
      "46         83.4            57.3\n",
      "47         83.4            60.3\n",
      "48         83.4            63.3\n",
      "49         83.4            66.3\n",
      "50         83.4            69.3\n",
      "51         83.4            72.3\n",
      "52         83.4            75.3\n",
      "53         83.4            78.3\n",
      "54\n"
     ]
    }
   ],
   "source": [
    "# Test the function, delete later.\n",
    "print (df['hand_x'])\n",
    "print (np.around(df['hand_x']))\n",
    "print (df.loc[:,['elbow_angle','shoulder_angle']])\n",
    "print (df.shape[0])"
   ]
  },
  {
   "cell_type": "code",
   "execution_count": 3,
   "metadata": {
    "pycharm": {
     "is_executing": false,
     "name": "#%%\n"
    }
   },
   "outputs": [
    {
     "name": "stdout",
     "output_type": "stream",
     "text": [
      "['Unnamed: 0', 'elbow_angle', 'elbow_x', 'elbow_y', 'hand_x', 'hand_y', 'shoulder_angle']\n"
     ]
    }
   ],
   "source": [
    "feature_names = df.columns.tolist()\n",
    "print feature_names\n",
    "\n",
    "label = np.around(df['hand_x'])\n",
    "df['label'] = np.around(df['hand_x'])\n",
    "df['label'] = df['label'].astype(np.int)\n",
    "#print (df)"
   ]
  },
  {
   "cell_type": "code",
   "execution_count": 4,
   "metadata": {
    "pycharm": {
     "is_executing": false,
     "name": "#%%\n"
    }
   },
   "outputs": [],
   "source": [
    "from torch.utils.data import Dataset, DataLoader, sampler\n",
    "\n",
    "class ArmDataset(Dataset):\n",
    "    def __init__(self,df):\n",
    "        self.dataset = df\n",
    "    def __len__(self):\n",
    "        return self.dataset.shape[0]\n",
    "    def __getitem__(self, idx):\n",
    "        shoulder_angle = self.dataset.loc[idx,'shoulder_angle']\n",
    "        elbow_angle = self.dataset.loc[idx,'elbow_angle']\n",
    "        #elbow_angle = self.dataset.loc[idx,'elbow_angle']\n",
    "        label = self.dataset.loc[idx,'label']\n",
    "        sample = {'shoulder_angle':shoulder_angle,'elbow_angle':elbow_angle,'label':label}\n",
    "        return sample"
   ]
  },
  {
   "cell_type": "code",
   "execution_count": 10,
   "metadata": {
    "pycharm": {
     "is_executing": false,
     "name": "#%%\n"
    }
   },
   "outputs": [],
   "source": [
    "import torch.nn as nn\n",
    "import torch.nn.functional as F\n",
    "\n",
    "class Net(nn.Module):\n",
    "    def __init__(self):\n",
    "        super(Net,self).__init__()\n",
    "        self.fc1 = nn.Linear(2,20)\n",
    "        self.fc2 = nn.Linear(20,3)\n",
    "    def forward(self,x):\n",
    "        x = F.tanh(self.fc1(x))\n",
    "        x = self.fc2(x)\n",
    "        \n",
    "        return x\n",
    "    \n",
    "net = Net()"
   ]
  },
  {
   "cell_type": "code",
   "execution_count": 6,
   "metadata": {
    "pycharm": {
     "is_executing": false,
     "name": "#%%\n"
    }
   },
   "outputs": [],
   "source": [
    "import torch.optim as optim\n",
    "criterion = nn.CrossEntropyLoss()\n",
    "optimizer = optim.SGD(net.parameters(),lr = 0.001, momentum=0.9)"
   ]
  },
  {
   "cell_type": "code",
   "execution_count": 7,
   "metadata": {
    "pycharm": {
     "is_executing": false,
     "name": "#%%\n"
    }
   },
   "outputs": [],
   "source": [
    "def train_test_loader(train_ratio,dataset):\n",
    "    n_data = len(dataset)\n",
    "    split = int(n_data*train_ratio)\n",
    "    \n",
    "    indices = list(range(n_data))\n",
    "    train_sampler = sampler.SubsetRandomSampler(indices[:split])\n",
    "    test_sampler = sampler.SubsetRandomSampler(indices[split:])\n",
    "    \n",
    "    train_loader = DataLoader(dataset, sampler=train_sampler, shuffle=False, batch_size=1)\n",
    "    test_loader = DataLoader(dataset, sampler=test_sampler, shuffle=False, batch_size=1)\n",
    "    \n",
    "    return train_loader, test_loader"
   ]
  },
  {
   "cell_type": "code",
   "execution_count": 11,
   "metadata": {
    "pycharm": {
     "is_executing": false,
     "name": "#%%\n"
    }
   },
   "outputs": [
    {
     "name": "stdout",
     "output_type": "stream",
     "text": [
      "(tensor([54.3000, 60.3000, 60.3000, 54.3000]), tensor([0, 0, 0, 0]))\n",
      "(tensor([51.3000, 60.3000, 54.3000, 51.3000]), tensor([0, 0, 0, 0]))\n",
      "(tensor([57.3000, 54.3000, 51.3000, 57.3000]), tensor([0, 0, 0, 0]))\n",
      "(tensor([57.3000, 54.3000, 57.3000, 54.3000]), tensor([0, 0, 0, 0]))\n",
      "(tensor([51.3000, 60.3000, 51.3000, 54.3000]), tensor([0, 0, 0, 0]))\n",
      "(tensor([57.3000, 57.3000, 57.3000]), tensor([0, 0, 0]))\n",
      "[1,     2] loss: 0.320\n",
      "[1,     4] loss: 0.320\n",
      "[1,     6] loss: 0.320\n",
      "[1,     8] loss: 0.320\n",
      "[1,    10] loss: 0.320\n",
      "[1,    12] loss: 0.320\n",
      "[1,    14] loss: 0.320\n",
      "[1,    16] loss: 0.320\n",
      "Finished Training\n",
      "[2,     2] loss: 0.320\n",
      "[2,     4] loss: 0.320\n",
      "[2,     6] loss: 0.320\n",
      "[2,     8] loss: 0.320\n",
      "[2,    10] loss: 0.320\n",
      "[2,    12] loss: 0.320\n",
      "[2,    14] loss: 0.320\n",
      "[2,    16] loss: 0.320\n",
      "Finished Training\n"
     ]
    }
   ],
   "source": [
    "df = df[df['label']>=0]\n",
    "df = df.reset_index(drop=True)\n",
    "arm_dataset = ArmDataset(df)\n",
    "arm_dataloader = DataLoader(arm_dataset,batch_size=4, shuffle=True)\n",
    "for idx, batch_samples in enumerate(arm_dataloader):\n",
    "    shoulder_batches, elbow_batches, label_batches = batch_samples['shoulder_angle'],batch_samples['elbow_angle'],batch_samples['label']\n",
    "    print(shoulder_batches,label_batches)\n",
    "    \n",
    "\n",
    "train_loader, test_loader = train_test_loader(0.7,arm_dataset)\n",
    "\n",
    "for epoch in range(2):\n",
    "    \n",
    "    running_loss = 0.0\n",
    "    for idx, batch_samples in enumerate(train_loader, 0):\n",
    "        shoulder_batches, elbow_batches, label_batches = batch_samples['shoulder_angle'],batch_samples['elbow_angle'],batch_samples['label']\n",
    "        # Clears the gradients of all optimized tensors\n",
    "        optimizer.zero_grad()\n",
    "        shoulder_batches = shoulder_batches.view(1,-1)\n",
    "        elbow_batches = elbow_batches.view(1,-1)\n",
    "        inputs = torch.cat([shoulder_batches,elbow_batches],dim=0).T\n",
    "        #print (inputs, label_batches)\n",
    "        outputs = net(inputs)\n",
    "        loss = criterion(outputs,label_batches)\n",
    "        loss.backward()\n",
    "        optimizer.step()\n",
    "        \n",
    "        running_loss += loss.item()\n",
    "        if idx % 2 == 1:\n",
    "            print ('[%d, %5d] loss: %.3f'%\n",
    "                   (epoch+1, idx+1, running_loss/10))\n",
    "            running_loss = 0.0\n",
    "    print ('Finished Training')"
   ]
  },
  {
   "cell_type": "code",
   "execution_count": null,
   "metadata": {},
   "outputs": [],
   "source": []
  }
 ],
 "metadata": {
  "kernelspec": {
   "display_name": "PyCharm (dopamine_rl)",
   "language": "python",
   "name": "pycharm-20495502"
  },
  "language_info": {
   "codemirror_mode": {
    "name": "ipython",
    "version": 2
   },
   "file_extension": ".py",
   "mimetype": "text/x-python",
   "name": "python",
   "nbconvert_exporter": "python",
   "pygments_lexer": "ipython2",
   "version": "2.7.18"
  },
  "pycharm": {
   "stem_cell": {
    "cell_type": "raw",
    "metadata": {
     "collapsed": false
    },
    "source": []
   }
  }
 },
 "nbformat": 4,
 "nbformat_minor": 1
}
