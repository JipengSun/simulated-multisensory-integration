{
 "cells": [
  {
   "cell_type": "code",
   "execution_count": 5,
   "metadata": {
    "collapsed": true,
    "pycharm": {
     "is_executing": false
    }
   },
   "outputs": [],
   "source": [
    "import pandas as pd\n",
    "src_path = '/Users/Jipeng/PycharmProjects/simulated_multisensory_integration/'\n",
    "file_name = 'simulated_data.csv'\n",
    "df = pd.read_csv(src_path+file_name)\n"
   ]
  },
  {
   "cell_type": "markdown",
   "source": [
    "## Goal of the module\n",
    "Training the proprioceptive inference model. Use the two joints angle data to predict the position of the hand.\n",
    "\n",
    "### Input\n",
    "shoulder_angle, elbow_angle\n",
    "\n",
    "What precision should the input be divided into? It depends on the performance. I will explore later.\n",
    "\n",
    "### Output\n",
    "spatial_coding\n",
    "\n",
    "Depends on  the precision of the final coding, the area can be divided into N parts. So there are N position labels. From [1,0,0,...0] to [0,0,0,...1]\n",
    "\n",
    "### Model structure\n",
    "input-->FC-->FC-->Softmax\n",
    "### To do\n",
    "1. Let the model run, without considering the performance.<br>\n",
    "a. Convert the hand position into spatial coding.<br>\n",
    "b. Split the dataset.<br>\n",
    "c. Use PyTorch to design the model.\n",
    "\n",
    "2. Augment the data, let it cover more positions.\n",
    "3. Divide the data into appropriate precision."
   ],
   "metadata": {
    "collapsed": false
   }
  },
  {
   "cell_type": "code",
   "execution_count": 6,
   "outputs": [
    {
     "name": "stdout",
     "text": [
      "['Unnamed: 0', 'elbow_angle', 'elbow_x', 'elbow_y', 'hand_x', 'hand_y', 'shoulder_angle']\n"
     ],
     "output_type": "stream"
    }
   ],
   "source": [
    "feature_names = df.columns.tolist()\n",
    "print feature_names\n",
    "\n",
    "\n",
    "\n",
    "\n",
    "\n"
   ],
   "metadata": {
    "collapsed": false,
    "pycharm": {
     "name": "#%%\n",
     "is_executing": false
    }
   }
  }
 ],
 "metadata": {
  "kernelspec": {
   "name": "pycharm-20495502",
   "language": "python",
   "display_name": "PyCharm (dopamine_rl)"
  },
  "language_info": {
   "codemirror_mode": {
    "name": "ipython",
    "version": 2
   },
   "file_extension": ".py",
   "mimetype": "text/x-python",
   "name": "python",
   "nbconvert_exporter": "python",
   "pygments_lexer": "ipython2",
   "version": "2.7.6"
  },
  "pycharm": {
   "stem_cell": {
    "cell_type": "raw",
    "source": [],
    "metadata": {
     "collapsed": false
    }
   }
  }
 },
 "nbformat": 4,
 "nbformat_minor": 0
}